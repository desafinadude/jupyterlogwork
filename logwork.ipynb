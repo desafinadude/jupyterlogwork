{
 "cells": [
  {
   "cell_type": "code",
   "execution_count": null,
   "id": "ff998eba-db8f-4ffc-a552-e9e536db4724",
   "metadata": {},
   "outputs": [],
   "source": [
    "import pandas as pd\n",
    "import numpy as np\n",
    "import crawlerdetect as cd\n",
    "import seaborn as sns\n",
    "import datetime\n",
    "\n",
    "df = pd.read_csv('logs1.csv')\n",
    "origdf = df\n",
    "\n",
    "df"
   ]
  },
  {
   "cell_type": "markdown",
   "id": "cca59381-3f9c-4dc1-9f50-8a1462386f98",
   "metadata": {},
   "source": [
    "### Exclude bots"
   ]
  },
  {
   "cell_type": "code",
   "execution_count": null,
   "id": "08bd9bf9-3f9e-4713-ae14-196f11b342fb",
   "metadata": {},
   "outputs": [],
   "source": [
    "crawler_detect = cd.CrawlerDetect()\n",
    "\n",
    "df['crawler'] = np.vectorize(crawler_detect.isCrawler)(df.useragent)\n",
    "\n",
    "bots = df[(df.crawler == True)]\n",
    "\n",
    "df = df[(df.crawler == False) & (df.useragent != '-')]\n",
    "\n",
    "df"
   ]
  },
  {
   "source": [
    "### Limit Methods to GET/POST"
   ],
   "cell_type": "markdown",
   "metadata": {}
  },
  {
   "cell_type": "code",
   "execution_count": null,
   "metadata": {},
   "outputs": [],
   "source": [
    "df = df[(df.method == 'GET') | (df.method == 'POST')]\n",
    "\n",
    "df"
   ]
  },
  {
   "source": [
    "### How many different unique IPs with at least one request?"
   ],
   "cell_type": "markdown",
   "metadata": {}
  },
  {
   "cell_type": "code",
   "execution_count": null,
   "metadata": {},
   "outputs": [],
   "source": [
    "v = df.ip.value_counts()\n",
    "single_requests_df = df.drop_duplicates(subset=['ip'])\n",
    "\n",
    "single_requests_df"
   ]
  },
  {
   "cell_type": "code",
   "execution_count": null,
   "metadata": {},
   "outputs": [],
   "source": [
    "print('There are ' + str(len(single_requests_df.index)) + ' unique IPs with at least one request')"
   ]
  },
  {
   "cell_type": "markdown",
   "id": "93156acd-be62-4bdf-8414-0562c69d3a01",
   "metadata": {},
   "source": [
    "### How many different unique IPs with at least two requests?"
   ]
  },
  {
   "cell_type": "code",
   "execution_count": null,
   "id": "305459d7-6b70-4170-a147-282a7e8f91cf",
   "metadata": {},
   "outputs": [],
   "source": [
    "v = df.ip.value_counts()\n",
    "multiple_requests_df = df[df.ip.isin(v.index[v.gt(1)])]\n",
    "multiple_requests_df = multiple_requests_df.drop_duplicates(subset=['ip'])\n",
    "\n",
    "multiple_requests_df"
   ]
  },
  {
   "cell_type": "code",
   "execution_count": null,
   "metadata": {},
   "outputs": [],
   "source": [
    "print('There are ' + str(len(multiple_requests_df.index)) + ' unique IPs with at least two requests')"
   ]
  },
  {
   "source": [
    "### How many unique IPs with requests on more than one day? (returning users)?"
   ],
   "cell_type": "markdown",
   "metadata": {}
  },
  {
   "cell_type": "code",
   "execution_count": null,
   "metadata": {},
   "outputs": [],
   "source": [
    "# TODO\n",
    "v = df.ip.value_counts()\n",
    "returning_requests_df = df[df.ip.isin(v.index[v.gt(1)])]\n",
    "returning_requests_df = returning_requests_df.drop_duplicates(subset=['ip'])\n",
    "\n",
    "returning_requests_df"
   ]
  },
  {
   "cell_type": "code",
   "execution_count": null,
   "metadata": {},
   "outputs": [],
   "source": [
    "print('There are ' + str(len(returning_requests_df.index)) + ' unique IPs with requests on more than one day')"
   ]
  },
  {
   "source": [
    "### Browser-looking requests per week histogram"
   ],
   "cell_type": "markdown",
   "metadata": {}
  },
  {
   "cell_type": "code",
   "execution_count": null,
   "id": "3cd606e9-fa69-4479-84f4-bc8fdf6463a2",
   "metadata": {},
   "outputs": [],
   "source": [
    "def line_format(label):\n",
    "    month = label.month_name()[:3]\n",
    "    if month == 'Jan':\n",
    "        month += f'\\n{label.year}'\n",
    "    return month\n",
    "\n",
    "df['computed_date'] = df.date.astype(str) + ' ' + df.month.astype(str) + ' ' + df.year.astype(str)\n",
    "\n",
    "df['computed_date'] = df['computed_date'].astype('datetime64[ns]')\n",
    "\n",
    "plot = df[['computed_date','ip']]\n",
    "\n",
    "plot.set_index('computed_date', inplace=True)\n",
    "\n",
    "plot.resample('1W').count().plot(kind='bar')"
   ]
  },
  {
   "source": [
    "### Evidence for people writing code against it (e.g. user agent of  \"Python\" or r studio\" or something)"
   ],
   "cell_type": "markdown",
   "metadata": {}
  },
  {
   "cell_type": "code",
   "execution_count": null,
   "metadata": {},
   "outputs": [],
   "source": [
    "code_strings = '|'.join(['python','r studio'])\n",
    "\n",
    "df_code = origdf[origdf['useragent'].str.contains(code_strings,case=False)]\n",
    "\n",
    "df_code\n"
   ]
  },
  {
   "source": [
    "### Evidence for people downloading the data"
   ],
   "cell_type": "markdown",
   "metadata": {}
  },
  {
   "cell_type": "code",
   "execution_count": null,
   "metadata": {},
   "outputs": [],
   "source": [
    "download_strings = '|'.join(['.xlsx'])\n",
    "\n",
    "df_downloads = df[df['request'].str.contains(download_strings, case=False)]\n",
    "\n",
    "df_downloads"
   ]
  },
  {
   "cell_type": "code",
   "execution_count": null,
   "metadata": {},
   "outputs": [],
   "source": []
  }
 ],
 "metadata": {
  "kernelspec": {
   "name": "python392jvsc74a57bd063fd5069d213b44bf678585dea6b12cceca9941eaf7f819626cde1f2670de90d",
   "display_name": "Python 3.9.2 64-bit"
  },
  "language_info": {
   "codemirror_mode": {
    "name": "ipython",
    "version": 3
   },
   "file_extension": ".py",
   "mimetype": "text/x-python",
   "name": "python",
   "nbconvert_exporter": "python",
   "pygments_lexer": "ipython3",
   "version": "3.9.2"
  },
  "toc-showcode": false,
  "toc-showmarkdowntxt": true,
  "metadata": {
   "interpreter": {
    "hash": "63fd5069d213b44bf678585dea6b12cceca9941eaf7f819626cde1f2670de90d"
   }
  }
 },
 "nbformat": 4,
 "nbformat_minor": 5
}